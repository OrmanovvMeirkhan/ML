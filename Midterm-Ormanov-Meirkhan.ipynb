{
 "cells": [
  {
   "cell_type": "code",
   "execution_count": null,
   "metadata": {},
   "outputs": [],
   "source": [
    "Matrix = []# first task\n",
    "o = 0;\n",
    "n = input()\n",
    "m = input()\n",
    "p = 1\n",
    "for i in range (n):\n",
    "    nn = [0]*m\n",
    "    for j in range (m):          \n",
    "        nn[j] = input()\n",
    "        if (i == j and nn[j]!= 0):\n",
    "            p= p * nn[j];\n",
    "    Matrix.insert(o, nn)\n",
    "    o = o + 1\n",
    "print p "
   ]
  },
  {
   "cell_type": "code",
   "execution_count": null,
   "metadata": {},
   "outputs": [],
   "source": [
    "import numpy as np\n",
    "\n",
    "Matrix = np.array([[1, 0, 1], [2, 0, 2], [3, 0, 3], [4, 4, 4]])\n",
    "\n",
    "d = Matrix.diagonal();\n",
    "np.trim_zeros(d)\n",
    "print d.prod()"
   ]
  },
  {
   "cell_type": "code",
   "execution_count": null,
   "metadata": {},
   "outputs": [],
   "source": [
    "def bubbleSort(arr):  # second task\n",
    "    n = len(arr)\n",
    "    for i in range(n):\n",
    "        for j in range(0, n-i-1):\n",
    "            if arr[j] > arr[j+1] :\n",
    "                arr[j], arr[j+1] = arr[j+1], arr[j]\n",
    "x = [5, 2, 3, 1, 4]\n",
    "y = [4, 2, 3, 1, 4]\n",
    "bubbleSort(x)\n",
    "bubbleSort(y)\n",
    "if (len (x) == len(y)):\n",
    "    for i in range (len (x)):\n",
    "        cnt[x[i]] = 1;\n",
    "    for i in range (len (x)):\n",
    "        if (cnt[y[i]] == 0):\n",
    "            print  (\"No\");\n",
    "            exit();\n",
    "    print (\"Yes\")\n",
    "print  (\"No\");\n"
   ]
  },
  {
   "cell_type": "code",
   "execution_count": null,
   "metadata": {},
   "outputs": [],
   "source": [
    "class Solution(object):   #second task variant 2\n",
    "    def bubbleSort(arr):\n",
    "        n = len(arr)\n",
    "        for i in range(n):\n",
    "            for j in range(0, n-i-1):\n",
    "                if arr[j] > arr[j+1] :\n",
    "                    arr[j], arr[j+1] = arr[j+1], arr[j]\n",
    "    def f(self, x, y):\n",
    "        bubbleSort(x)\n",
    "        bubbleSort(y)\n",
    "        if (len (x) == len(y)):\n",
    "            for i in range (len (x)):\n",
    "                if (x[i] != y[i]):\n",
    "                    return false;\n",
    "            return true;\n",
    "        return false;"
   ]
  },
  {
   "cell_type": "code",
   "execution_count": null,
   "metadata": {},
   "outputs": [],
   "source": [
    "x = np.array([1, 2, 2, 4])\n",
    "y = np.array([4, 2, 1, 2])\n",
    "X = np.unique(x, return_inverse=True)\n",
    "Y = np.unique(y, return_inverse=True)\n",
    "if (np.all(X == Y)):\n",
    "    print (\"Yes\")\n",
    "else\n",
    "    print (\"No\")"
   ]
  },
  {
   "cell_type": "code",
   "execution_count": null,
   "metadata": {},
   "outputs": [],
   "source": [
    "a = [6, 2, 0, 3, 0, 0, 5, 0,7 ]#task 3\n",
    "_max = -1111 # if netu elementa men'she nego\n",
    "for i in range (1,len(a)):\n",
    "    if (a[i] > _max  and a[i - 1] == 0):\n",
    "        _max = a[i]\n",
    "print (_max)\n"
   ]
  },
  {
   "cell_type": "code",
   "execution_count": null,
   "metadata": {},
   "outputs": [],
   "source": [
    "x = np.array([6, 2, 0, 3, 0, 0, 5, 7, 0]) #3\n",
    "maxi = x[1:][(x == 0)[:-1]]\n",
    "maxi.max()"
   ]
  },
  {
   "cell_type": "code",
   "execution_count": null,
   "metadata": {},
   "outputs": [],
   "source": [
    "a = [2, 2, 2, 3, 3, 3, 5] #5\n",
    "cnt = [0] * 1000 # a[i] < 1000\n",
    "j = 0;\n",
    "h = 0;\n",
    "res = [0]* len(a)\n",
    "res1 = [0]*len(a)\n",
    "for i in range (len(a)):\n",
    "    if (cnt[a[i]] == 0):\n",
    "        h = h + 1;\n",
    "        res[j] = a[i]\n",
    "        j = j + 1;\n",
    "    cnt[a[i]] = cnt[a[i]] + 1;\n",
    "for k in range(h):\n",
    "    res1[k] = cnt[res[k]];\n",
    "print res\n",
    "print res1\n",
    "    "
   ]
  },
  {
   "cell_type": "code",
   "execution_count": null,
   "metadata": {},
   "outputs": [],
   "source": [
    "import numpy as np #5\n",
    "\n",
    "x = np.array([2, 2, 2, 3, 3, 3, 5])\n",
    "\n",
    "x, occurency = np.unique( x, return_counts = True)\n",
    "\n",
    "x, occurency"
   ]
  },
  {
   "cell_type": "code",
   "execution_count": null,
   "metadata": {},
   "outputs": [],
   "source": [
    "import math # 6 task\n",
    "        \n",
    "x = [1,2]\n",
    "y = [3,4]\n",
    "res = 0;\n",
    "for i in range(len(x)):\n",
    "        res = res + (x[i] - y[i])*(x[i] - y[i])\n",
    "print (math.sqrt(res))\n",
    "\n"
   ]
  },
  {
   "cell_type": "code",
   "execution_count": null,
   "metadata": {},
   "outputs": [],
   "source": [
    "X = np.array([1,2])\n",
    "Y = np.array([3,4])\n",
    "print np.sqrt(np.sum((X - Y)))\n"
   ]
  },
  {
   "cell_type": "code",
   "execution_count": null,
   "metadata": {},
   "outputs": [],
   "source": [
    "import numpy as np\n",
    "import pandas as pd\n",
    "data = pd.read_csv(\"data.csv\")\n",
    "data = data.replace(np.NAN, data.mean())\n"
   ]
  },
  {
   "cell_type": "code",
   "execution_count": null,
   "metadata": {},
   "outputs": [],
   "source": []
  }
 ],
 "metadata": {
  "kernelspec": {
   "display_name": "Python 2",
   "language": "python",
   "name": "python2"
  },
  "language_info": {
   "codemirror_mode": {
    "name": "ipython",
    "version": 2
   },
   "file_extension": ".py",
   "mimetype": "text/x-python",
   "name": "python",
   "nbconvert_exporter": "python",
   "pygments_lexer": "ipython2",
   "version": "2.7.15"
  }
 },
 "nbformat": 4,
 "nbformat_minor": 2
}
